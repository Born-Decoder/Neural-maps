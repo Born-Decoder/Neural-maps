{
  "nbformat": 4,
  "nbformat_minor": 0,
  "metadata": {
    "colab": {
      "name": "My-neural-maps.ipynb",
      "provenance": [],
      "collapsed_sections": [],
      "authorship_tag": "ABX9TyP0XuVSdplxoTFOpfnKypxm",
      "include_colab_link": true
    },
    "kernelspec": {
      "name": "python3",
      "display_name": "Python 3"
    }
  },
  "cells": [
    {
      "cell_type": "markdown",
      "metadata": {
        "id": "view-in-github",
        "colab_type": "text"
      },
      "source": [
        "<a href=\"https://colab.research.google.com/github/Born-Decoder/Neural-maps/blob/main/My_neural_maps.ipynb\" target=\"_parent\"><img src=\"https://colab.research.google.com/assets/colab-badge.svg\" alt=\"Open In Colab\"/></a>"
      ]
    },
    {
      "cell_type": "markdown",
      "metadata": {
        "id": "pkQGx6s2ufoZ"
      },
      "source": [
        "# **An abstract try to simulate nano-working essential systems in brain**"
      ]
    },
    {
      "cell_type": "code",
      "metadata": {
        "id": "rmMo9wEg7Urc"
      },
      "source": [
        "import numpy as np"
      ],
      "execution_count": 1,
      "outputs": []
    },
    {
      "cell_type": "code",
      "metadata": {
        "id": "3wQQ0OQT5LsF"
      },
      "source": [
        "def compute_node_out(in_params, in_degree):\r\n",
        "  return np.multiply(in_params, in_degree)\r\n"
      ],
      "execution_count": 2,
      "outputs": []
    },
    {
      "cell_type": "code",
      "metadata": {
        "id": "ENIxPKj2xZLY"
      },
      "source": [
        "def node_initializer(in_params, in_degree, out_params):\r\n",
        "  outs = []\r\n",
        "  for out in range(out_params):\r\n",
        "    outs.append(compute_node_out(in_params, in_degree))\r\n",
        "  return outs"
      ],
      "execution_count": 3,
      "outputs": []
    },
    {
      "cell_type": "code",
      "metadata": {
        "colab": {
          "base_uri": "https://localhost:8080/"
        },
        "id": "e5LC49U27cNj",
        "outputId": "3947f040-000f-4b71-8922-508e9e7e0bca"
      },
      "source": [
        "in_params = np.random.rand(1,10)\r\n",
        "in_degree = np.random.rand(1,10)\r\n",
        "out_params = 10\r\n",
        "node_out = node_initializer(in_params, in_degree, out_params)\r\n",
        "for i in range(len(node_out)):\r\n",
        "  print(node_out[i])"
      ],
      "execution_count": 5,
      "outputs": [
        {
          "output_type": "stream",
          "text": [
            "[[1.00163405e-01 7.20993854e-02 2.07609327e-01 1.17129027e-01\n",
            "  2.30504515e-01 2.86941474e-01 5.00044622e-01 7.35826099e-05\n",
            "  7.45664014e-01 1.42842942e-01]]\n",
            "[[1.00163405e-01 7.20993854e-02 2.07609327e-01 1.17129027e-01\n",
            "  2.30504515e-01 2.86941474e-01 5.00044622e-01 7.35826099e-05\n",
            "  7.45664014e-01 1.42842942e-01]]\n",
            "[[1.00163405e-01 7.20993854e-02 2.07609327e-01 1.17129027e-01\n",
            "  2.30504515e-01 2.86941474e-01 5.00044622e-01 7.35826099e-05\n",
            "  7.45664014e-01 1.42842942e-01]]\n",
            "[[1.00163405e-01 7.20993854e-02 2.07609327e-01 1.17129027e-01\n",
            "  2.30504515e-01 2.86941474e-01 5.00044622e-01 7.35826099e-05\n",
            "  7.45664014e-01 1.42842942e-01]]\n",
            "[[1.00163405e-01 7.20993854e-02 2.07609327e-01 1.17129027e-01\n",
            "  2.30504515e-01 2.86941474e-01 5.00044622e-01 7.35826099e-05\n",
            "  7.45664014e-01 1.42842942e-01]]\n",
            "[[1.00163405e-01 7.20993854e-02 2.07609327e-01 1.17129027e-01\n",
            "  2.30504515e-01 2.86941474e-01 5.00044622e-01 7.35826099e-05\n",
            "  7.45664014e-01 1.42842942e-01]]\n",
            "[[1.00163405e-01 7.20993854e-02 2.07609327e-01 1.17129027e-01\n",
            "  2.30504515e-01 2.86941474e-01 5.00044622e-01 7.35826099e-05\n",
            "  7.45664014e-01 1.42842942e-01]]\n",
            "[[1.00163405e-01 7.20993854e-02 2.07609327e-01 1.17129027e-01\n",
            "  2.30504515e-01 2.86941474e-01 5.00044622e-01 7.35826099e-05\n",
            "  7.45664014e-01 1.42842942e-01]]\n",
            "[[1.00163405e-01 7.20993854e-02 2.07609327e-01 1.17129027e-01\n",
            "  2.30504515e-01 2.86941474e-01 5.00044622e-01 7.35826099e-05\n",
            "  7.45664014e-01 1.42842942e-01]]\n",
            "[[1.00163405e-01 7.20993854e-02 2.07609327e-01 1.17129027e-01\n",
            "  2.30504515e-01 2.86941474e-01 5.00044622e-01 7.35826099e-05\n",
            "  7.45664014e-01 1.42842942e-01]]\n"
          ],
          "name": "stdout"
        }
      ]
    },
    {
      "cell_type": "code",
      "metadata": {
        "id": "xYBD74tjvFQV"
      },
      "source": [
        "def node_inputs(no_inputs, input_array):\r\n",
        "  \r\n"
      ],
      "execution_count": null,
      "outputs": []
    }
  ]
}